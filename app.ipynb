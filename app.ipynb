{
  "nbformat": 4,
  "nbformat_minor": 0,
  "metadata": {
    "colab": {
      "provenance": []
    },
    "kernelspec": {
      "name": "python3",
      "display_name": "Python 3"
    },
    "language_info": {
      "name": "python"
    }
  },
  "cells": [
    {
      "cell_type": "code",
      "execution_count": null,
      "metadata": {
        "id": "YlhqjeJNIsN5"
      },
      "outputs": [],
      "source": [
        "# app.py\n",
        "\n",
        "from flask import Flask, render_template, request, jsonify\n",
        "\n",
        "app = Flask(__name__)\n",
        "\n",
        "# Example word lists based on stylistic or thematic differences\n",
        "male_words = [\"sports\", \"car\", \"technology\", \"work\", \"money\", \"football\", \"tools\"]\n",
        "female_words = [\"fashion\", \"shopping\", \"beauty\", \"love\", \"family\", \"recipe\", \"cute\"]\n",
        "\n",
        "@app.route('/')\n",
        "def home():\n",
        "    return render_template('index.html')\n",
        "\n",
        "@app.route('/api/predict', methods=['POST'])\n",
        "def predict():\n",
        "    data = request.get_json()\n",
        "    text = data['text']\n",
        "    text_words = text.lower().split()\n",
        "\n",
        "    male_score = sum(word in text_words for word in male_words)\n",
        "    female_score = sum(word in text_words for word in female_words)\n",
        "\n",
        "    if male_score > female_score:\n",
        "        prediction = \"Male\"\n",
        "    elif female_score > male_score:\n",
        "        prediction = \"Female\"\n",
        "    else:\n",
        "        prediction = \"Unknown\"\n",
        "\n",
        "    return jsonify({'prediction': prediction, 'trained': True})\n",
        "\n",
        "if __name__ == '__main__':\n",
        "    app.run(debug=True)\n"
      ]
    }
  ]
}